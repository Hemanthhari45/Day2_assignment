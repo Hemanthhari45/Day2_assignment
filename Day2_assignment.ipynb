{
  "nbformat": 4,
  "nbformat_minor": 0,
  "metadata": {
    "colab": {
      "name": "Day2_assignment.ipynb",
      "provenance": []
    },
    "kernelspec": {
      "name": "python3",
      "display_name": "Python 3"
    },
    "language_info": {
      "name": "python"
    }
  },
  "cells": [
    {
      "cell_type": "code",
      "metadata": {
        "colab": {
          "base_uri": "https://localhost:8080/"
        },
        "id": "sQs2720yPL6_",
        "outputId": "b494e671-3993-4bda-df6e-9373a1cb7931"
      },
      "source": [
        "list1 = [10, 21, 4, 45, 66, 44, 56, 35, 93]\n",
        "  \n",
        "for num in list1:\n",
        "      \n",
        "    if num % 2 == 0:\n",
        "       print(num, end = \" \")"
      ],
      "execution_count": 3,
      "outputs": [
        {
          "output_type": "stream",
          "name": "stdout",
          "text": [
            "10 4 66 44 56 "
          ]
        }
      ]
    }
  ]
}